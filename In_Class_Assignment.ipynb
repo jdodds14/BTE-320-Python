{
  "nbformat": 4,
  "nbformat_minor": 0,
  "metadata": {
    "colab": {
      "provenance": [],
      "authorship_tag": "ABX9TyO7MjQrrm1yCWltoAA0Lq4B",
      "include_colab_link": true
    },
    "kernelspec": {
      "name": "python3",
      "display_name": "Python 3"
    },
    "language_info": {
      "name": "python"
    }
  },
  "cells": [
    {
      "cell_type": "markdown",
      "metadata": {
        "id": "view-in-github",
        "colab_type": "text"
      },
      "source": [
        "<a href=\"https://colab.research.google.com/github/jdodds14/BTE-320-Python/blob/main/In_Class_Assignment.ipynb\" target=\"_parent\"><img src=\"https://colab.research.google.com/assets/colab-badge.svg\" alt=\"Open In Colab\"/></a>"
      ]
    },
    {
      "cell_type": "code",
      "execution_count": null,
      "metadata": {
        "colab": {
          "base_uri": "https://localhost:8080/"
        },
        "id": "SUu4rGA32zXn",
        "outputId": "28e577b0-5555-49a8-da75-85d652343753"
      },
      "outputs": [
        {
          "output_type": "stream",
          "name": "stdout",
          "text": [
            "Please insert Radius here: 2\n",
            "Please insert Height here: 3\n",
            "Area of a Cylinder:  62.8\n"
          ]
        }
      ],
      "source": [
        "# In class assignment\n",
        "Radius = int(input(\"Please insert Radius here: \"))\n",
        "Height = int(input(\"Please insert Height here: \"))\n",
        "pi = 3.14\n",
        "print(\"Area of a Cylinder: \", ((Radius**2)*2*pi)+2*pi*Radius*Height)"
      ]
    },
    {
      "cell_type": "code",
      "source": [
        "Base = int(input(\"Please insert Base here: \"))\n",
        "Height = int(input(\"Please insert Height here: \"))\n",
        "print(\"Area of a Triangle: \", (Base*Height)/2)"
      ],
      "metadata": {
        "colab": {
          "base_uri": "https://localhost:8080/"
        },
        "id": "18j0Gzuz6By5",
        "outputId": "1764e8f1-a0f8-4caf-e141-0dfd9154fb2f"
      },
      "execution_count": null,
      "outputs": [
        {
          "output_type": "stream",
          "name": "stdout",
          "text": [
            "Please insert Base here: 2\n",
            "Please insert Height here: 3\n",
            "Area of a Triangle:  3.0\n"
          ]
        }
      ]
    },
    {
      "cell_type": "code",
      "source": [
        "# In class assignment\n",
        "pi = 3.14\n",
        "radius = float(input('Enter radius: '))\n",
        "height = float(input('Enter height: '))\n",
        "\n",
        "area = (2 * pi * (radius**2)) + (2 * pi * radius * height)\n",
        "\n",
        "print(f\"Area = {area} sq. ft\")"
      ],
      "metadata": {
        "colab": {
          "base_uri": "https://localhost:8080/"
        },
        "id": "7h7X6Ogn6oxC",
        "outputId": "0c1654bf-6940-4f24-d5fd-ef016c2b7584"
      },
      "execution_count": null,
      "outputs": [
        {
          "output_type": "stream",
          "name": "stdout",
          "text": [
            "Enter radius: 23\n",
            "Enter height: 34\n",
            "Area = 8233.08 sq. ft\n"
          ]
        }
      ]
    }
  ]
}