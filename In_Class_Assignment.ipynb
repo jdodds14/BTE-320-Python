{
  "nbformat": 4,
  "nbformat_minor": 0,
  "metadata": {
    "colab": {
      "provenance": [],
      "authorship_tag": "ABX9TyM8fSz7eLvWWNqu1wKAxOkS",
      "include_colab_link": true
    },
    "kernelspec": {
      "name": "python3",
      "display_name": "Python 3"
    },
    "language_info": {
      "name": "python"
    }
  },
  "cells": [
    {
      "cell_type": "markdown",
      "metadata": {
        "id": "view-in-github",
        "colab_type": "text"
      },
      "source": [
        "<a href=\"https://colab.research.google.com/github/jdodds14/BTE-320-Python/blob/main/In_Class_Assignment.ipynb\" target=\"_parent\"><img src=\"https://colab.research.google.com/assets/colab-badge.svg\" alt=\"Open In Colab\"/></a>"
      ]
    },
    {
      "cell_type": "code",
      "execution_count": null,
      "metadata": {
        "colab": {
          "base_uri": "https://localhost:8080/"
        },
        "id": "SUu4rGA32zXn",
        "outputId": "28e577b0-5555-49a8-da75-85d652343753"
      },
      "outputs": [
        {
          "output_type": "stream",
          "name": "stdout",
          "text": [
            "Please insert Radius here: 2\n",
            "Please insert Height here: 3\n",
            "Area of a Cylinder:  62.8\n"
          ]
        }
      ],
      "source": [
        "# In class assignment\n",
        "Radius = int(input(\"Please insert Radius here: \"))\n",
        "Height = int(input(\"Please insert Height here: \"))\n",
        "pi = 3.14\n",
        "print(\"Area of a Cylinder: \", ((Radius**2)*2*pi)+2*pi*Radius*Height)"
      ]
    },
    {
      "cell_type": "code",
      "source": [
        "n1 = float(input(\"Enter first number: \"))\n",
        "n2 = float(input(\"Enter second number: \"))\n",
        "op = input(\"Enter operator: \")\n",
        "\n",
        "if op == \"+\":\n",
        "  res = n1 + n2\n",
        "elif op == \"-\":\n",
        "  res = n1 - n2\n",
        "elif op == \"*\":\n",
        "  res = n1 * n2\n",
        "elif op == \"/\":\n",
        "  res = n1 / n2\n",
        "elif op == \"//\":\n",
        "  res = n1 / n2\n",
        "elif op == \"**\":\n",
        "  res = n1 ** n2\n",
        "elif op == \"%\":\n",
        "  res = n1 % n2\n",
        "else:\n",
        "  res = \"Invalid Operator\"\n",
        "\n",
        "print(res)"
      ],
      "metadata": {
        "colab": {
          "base_uri": "https://localhost:8080/"
        },
        "id": "zdpjEHFETNjY",
        "outputId": "2309cb87-080b-449c-d9f0-70df88e21cda"
      },
      "execution_count": null,
      "outputs": [
        {
          "output_type": "stream",
          "name": "stdout",
          "text": [
            "Enter first number: 10\n",
            "Enter second number: 20\n",
            "Enter operator: %\n",
            "10.0\n"
          ]
        }
      ]
    },
    {
      "cell_type": "code",
      "source": [
        "for numberHours in range(1, 9, 1):\n",
        "  fee = 5 + 2.5 * numberHours\n",
        "  if fee < 10:\n",
        "    fee = 10.0\n",
        "  elif fee > 20:\n",
        "    fee = 20.0\n",
        "  print(numberHours, fee)"
      ],
      "metadata": {
        "colab": {
          "base_uri": "https://localhost:8080/"
        },
        "id": "ig1VnjtYqzAH",
        "outputId": "b165650f-ce82-478f-b403-dd433f05ef4c"
      },
      "execution_count": null,
      "outputs": [
        {
          "output_type": "stream",
          "name": "stdout",
          "text": [
            "1 10.0\n",
            "2 10.0\n",
            "3 12.5\n",
            "4 15.0\n",
            "5 17.5\n",
            "6 20.0\n",
            "7 20.0\n",
            "8 20.0\n"
          ]
        }
      ]
    },
    {
      "cell_type": "code",
      "source": [
        "print(\"Ad$\\t\", \"Profit\")\n",
        "for ad in range(0, 201, 25):\n",
        "  attendes = round(20.0 + (2.0 * (ad**0.5)))\n",
        "  profit = round((attendes * 10.0) - (200.0 + ad))\n",
        "  print(ad, \"\\t\", profit)"
      ],
      "metadata": {
        "colab": {
          "base_uri": "https://localhost:8080/"
        },
        "id": "DCSqdNMBubVu",
        "outputId": "78b2e9f6-ee49-4e35-d165-075e7212e257"
      },
      "execution_count": null,
      "outputs": [
        {
          "output_type": "stream",
          "name": "stdout",
          "text": [
            "Ad$\t Profit\n",
            "0 \t 0\n",
            "25 \t 75\n",
            "50 \t 90\n",
            "75 \t 95\n",
            "100 \t 100\n",
            "125 \t 95\n",
            "150 \t 90\n",
            "175 \t 85\n",
            "200 \t 80\n"
          ]
        }
      ]
    },
    {
      "cell_type": "code",
      "source": [
        "import random\n",
        "\n",
        "play = input(\"Do you want to play the game (Yes/No):  \").capitalize()\n",
        "\n",
        "while play == \"Yes\":\n",
        "  p1 = input(\"Player 1 - Choose between Rock/Paper/Scissors:\").capitalize()\n",
        "  p2 = random.choice([\"Rock\", \"Paper\", \"Scissors\"]).capitalize()\n",
        "\n",
        "  print(f\"Player chose {p1}; computer chose {p2}\")\n",
        "\n",
        "  if p1 == p2:\n",
        "    print(\"Draw!\")\n",
        "  elif ((p1 == \"Rock\" and p2 == \"Scissors\") or\n",
        "        (p1 == \"Scissors\" and p2 == \"Paper\") or\n",
        "        (p1 == \"Paper\" and p2 == \"Rock\")):\n",
        "    print(\"Player 1 wins\")\n",
        "  else:\n",
        "    print(\"Player 2 wins\")\n",
        "\n",
        "  play = input(\"Do you want to play the game (Yes/No):  \").capitalize()\n",
        "print(\"Good day...\")"
      ],
      "metadata": {
        "colab": {
          "base_uri": "https://localhost:8080/"
        },
        "id": "mVi5KRg0ncNO",
        "outputId": "648b073a-d924-4052-f1d9-c41d9ebae55c"
      },
      "execution_count": null,
      "outputs": [
        {
          "output_type": "stream",
          "name": "stdout",
          "text": [
            "Do you want to play the game (Yes/No):  Yes\n",
            "Player 1 - Choose between Rock/Paper/Scissors:Rock\n",
            "Player chose Rock; computer chose Scissors\n",
            "Player 1 wins\n",
            "Do you want to play the game (Yes/No):  NO\n",
            "Good day...\n"
          ]
        }
      ]
    },
    {
      "cell_type": "code",
      "source": [
        "L = []\n",
        "\n",
        "while True:\n",
        "  num = float(input('Give a number: '))\n",
        "  if num == 0.0:\n",
        "    break\n",
        "  L.append(num)\n",
        "L.sort(reverse = True)\n",
        "L"
      ],
      "metadata": {
        "colab": {
          "base_uri": "https://localhost:8080/"
        },
        "id": "vJhYC3l28phR",
        "outputId": "6eb2b41f-706f-427c-c008-f5fe422153ba"
      },
      "execution_count": 1,
      "outputs": [
        {
          "name": "stdout",
          "output_type": "stream",
          "text": [
            "Give a number: 6\n",
            "Give a number: 0\n"
          ]
        },
        {
          "output_type": "execute_result",
          "data": {
            "text/plain": [
              "[6.0]"
            ]
          },
          "metadata": {},
          "execution_count": 1
        }
      ]
    },
    {
      "cell_type": "code",
      "source": [
        "months = {}\n",
        "\n",
        "names = [\"January\", \"February\", \"March\", \"April\", \"May\", \"June\", \"July\", \"August\", \"September\", \"October\", \"November\", \"December\"]\n",
        "numbers = [1,2,3,4,5,6,7,8,9,10,11,12]\n",
        "\n",
        "for num in numbers:\n",
        "  months[num] = names[num - 1]\n",
        "\n",
        "print(months)"
      ],
      "metadata": {
        "colab": {
          "base_uri": "https://localhost:8080/"
        },
        "id": "sDvLheRMbmbe",
        "outputId": "6eee1dd0-cf3b-4b1c-be2f-dfd13e0a98b3"
      },
      "execution_count": null,
      "outputs": [
        {
          "output_type": "stream",
          "name": "stdout",
          "text": [
            "{1: 'January', 2: 'February', 3: 'March', 4: 'April', 5: 'May', 6: 'June', 7: 'July', 8: 'August', 9: 'September', 10: 'October', 11: 'November', 12: 'December'}\n"
          ]
        }
      ]
    },
    {
      "cell_type": "code",
      "source": [
        "counts = {}\n",
        "\n",
        "while len(counts) < 5:\n",
        "  key = input(\"Enter a fruit: \")\n",
        "\n",
        "  if key in counts:\n",
        "    counts[key] += 1\n",
        "  else:\n",
        "    counts[key] = 1\n",
        "\n",
        "print(\"\\nCounts: \")\n",
        "print(counts)"
      ],
      "metadata": {
        "id": "MfO15LGcb_nR"
      },
      "execution_count": null,
      "outputs": []
    },
    {
      "cell_type": "code",
      "source": [
        "def calcFee(hours):\n",
        "  fee = 5 + 2.5 * hours\n",
        "  if fee < 10:\n",
        "    fee = 10.0\n",
        "  elif fee > 20:\n",
        "    fee = 20.0\n",
        "  print(f'Fee: ${fee}')\n",
        "\n",
        "numHours = int(input(\"Enter number of hours: \"))\n",
        "calcFee(numHours)"
      ],
      "metadata": {
        "colab": {
          "base_uri": "https://localhost:8080/"
        },
        "outputId": "fc8a8738-d833-4038-d7c4-fe6f35625bc2",
        "id": "YHmcJSF235CY"
      },
      "execution_count": null,
      "outputs": [
        {
          "output_type": "stream",
          "name": "stdout",
          "text": [
            "Enter number of hours: 5\n",
            "Fee: $17.5\n"
          ]
        }
      ]
    },
    {
      "cell_type": "code",
      "source": [
        "def reverse_string(s):\n",
        "  if len(s) <= 1:\n",
        "    return s\n",
        "  else:\n",
        "    return reverse_string(s[1:]) + s[0]\n",
        "\n",
        "string = input(\"Enter a string:\")\n",
        "print(reverse_string(string))"
      ],
      "metadata": {
        "id": "R5yviOXNew-4"
      },
      "execution_count": null,
      "outputs": []
    },
    {
      "cell_type": "code",
      "source": [
        "def getParkingHours():\n",
        "  numHours = int(input(\"Enter number of hours: \"))\n",
        "  return numHours\n",
        "\n",
        "def calcFee(hours):\n",
        "  fee = 2.5 * hours\n",
        "  if fee < 6.0:\n",
        "    fee = 6.0\n",
        "  elif fee > 20.0:\n",
        "    fee = 20.0\n",
        "  return fee\n",
        "\n",
        "hours = getParkingHours()\n",
        "fee = calcFee(hours)\n",
        "print(f\"Fee: {fee}\")"
      ],
      "metadata": {
        "id": "xcKqFqvg7a3h"
      },
      "execution_count": null,
      "outputs": []
    },
    {
      "cell_type": "code",
      "source": [
        "class Greeting:\n",
        "  def __init__ (self, first, last):\n",
        "    self.first = first\n",
        "    self.last = last\n",
        "\n",
        "  def display(self, formal = False):\n",
        "    if formal:\n",
        "      print(f\"Hello {self.first} {self.last}\")\n",
        "    else:\n",
        "      print(f\"Hello {self.first}\")\n",
        "\n",
        "  def __str__(self):\n",
        "    return f\"{self.first}, {self.last}\"\n",
        "\n",
        "greeting = Greeting(\"Donald\", \"Becker\")\n",
        "greeting.display(formal = True)\n",
        "print(greeting)"
      ],
      "metadata": {
        "colab": {
          "base_uri": "https://localhost:8080/"
        },
        "id": "n2yJLeL1mux5",
        "outputId": "9896b5bf-8132-4ad1-c939-b3efaa9995c2"
      },
      "execution_count": null,
      "outputs": [
        {
          "output_type": "stream",
          "name": "stdout",
          "text": [
            "Hello Donald Becker\n",
            "Donald, Becker\n"
          ]
        }
      ]
    },
    {
      "cell_type": "code",
      "source": [
        "class Student:\n",
        "  def __init__(self, name, number):\n",
        "    self.name = name\n",
        "    self.__number = number\n",
        "    self.__courses = []\n",
        "\n",
        "  def __len__(self):\n",
        "    return len(self.__courses)\n",
        "\n",
        "\n",
        "  def enroll(self, course):\n",
        "    if course in self.__courses:\n",
        "      print(f'You have already enrolled in {course}')\n",
        "    else:\n",
        "      self.__courses.append(course)\n",
        "\n",
        "  def get_courses(self):\n",
        "    return self.__courses\n",
        "\n",
        "  def get_number(self):\n",
        "    return self.__number\n",
        "\n",
        "  def set_number(self, newnumber):\n",
        "    self.__number = newnumber\n",
        "\n",
        "s1 = Student('Bob', 100)\n",
        "s2 = Student('Alice', 101)"
      ],
      "metadata": {
        "id": "US0sKpgDuOME"
      },
      "execution_count": null,
      "outputs": []
    }
  ]
}